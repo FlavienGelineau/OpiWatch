{
 "cells": [
  {
   "cell_type": "code",
   "execution_count": 1,
   "metadata": {},
   "outputs": [
    {
     "name": "stderr",
     "output_type": "stream",
     "text": [
      "Using TensorFlow backend.\n"
     ]
    }
   ],
   "source": [
    "import pandas as pd\n",
    "from keras.layers import CuDNNLSTM\n",
    "from keras.layers import Dense\n",
    "from keras.models import Sequential\n",
    "from sklearn.metrics import confusion_matrix, classification_report\n",
    "from keras.callbacks import EarlyStopping, ModelCheckpoint\n",
    "from data_managing import get_rnn_train_test_set\n",
    "\n",
    "\n",
    "def make_model(input_shape, output_dim):\n",
    "    print(\"model dim: \", input_shape, output_dim)\n",
    "    model = Sequential()\n",
    "    model.add(CuDNNLSTM(64, input_shape=input_shape, batch_size=None, return_sequences=False))\n",
    "    model.add(Dense(200, activation='relu'))\n",
    "    model.add(Dense(output_dim, activation='softmax'))\n",
    "    model.compile(loss='categorical_crossentropy', optimizer='adam')\n",
    "\n",
    "    return model"
   ]
  },
  {
   "cell_type": "code",
   "execution_count": 2,
   "metadata": {
    "scrolled": true
   },
   "outputs": [
    {
     "name": "stderr",
     "output_type": "stream",
     "text": [
      "100%|██████████| 549/549 [00:06<00:00, 81.34it/s] \n",
      "432it [06:05,  1.16it/s]\n",
      "50it [00:40,  1.18it/s]\n"
     ]
    }
   ],
   "source": [
    "\n",
    "selected_labels = ['Healthy control', 'Myocardial infarction', 'Bundle branch block', 'Cardiomyopathy']\n",
    "window_size = 1024\n",
    "trainX, trainY, testX, testY, record_list = get_rnn_train_test_set(selected_labels, window_size)"
   ]
  },
  {
   "cell_type": "code",
   "execution_count": 3,
   "metadata": {},
   "outputs": [
    {
     "name": "stdout",
     "output_type": "stream",
     "text": [
      "model dim:  (1, 1024) 4\n",
      "\n",
      "Epoch 00001: val_loss improved from inf to 0.74030, saving model to weights_best_model\n",
      "\n",
      "Epoch 00002: val_loss improved from 0.74030 to 0.71045, saving model to weights_best_model\n",
      "\n",
      "Epoch 00003: val_loss improved from 0.71045 to 0.68110, saving model to weights_best_model\n",
      "\n",
      "Epoch 00004: val_loss improved from 0.68110 to 0.66062, saving model to weights_best_model\n",
      "\n",
      "Epoch 00005: val_loss improved from 0.66062 to 0.63457, saving model to weights_best_model\n",
      "\n",
      "Epoch 00006: val_loss improved from 0.63457 to 0.61623, saving model to weights_best_model\n",
      "\n",
      "Epoch 00007: val_loss improved from 0.61623 to 0.58552, saving model to weights_best_model\n",
      "\n",
      "Epoch 00008: val_loss improved from 0.58552 to 0.57397, saving model to weights_best_model\n",
      "\n",
      "Epoch 00009: val_loss improved from 0.57397 to 0.55710, saving model to weights_best_model\n",
      "\n",
      "Epoch 00010: val_loss improved from 0.55710 to 0.53924, saving model to weights_best_model\n",
      "\n",
      "Epoch 00011: val_loss improved from 0.53924 to 0.52550, saving model to weights_best_model\n",
      "\n",
      "Epoch 00012: val_loss did not improve from 0.52550\n",
      "\n",
      "Epoch 00013: val_loss improved from 0.52550 to 0.51306, saving model to weights_best_model\n",
      "\n",
      "Epoch 00014: val_loss improved from 0.51306 to 0.50042, saving model to weights_best_model\n",
      "\n",
      "Epoch 00015: val_loss did not improve from 0.50042\n",
      "\n",
      "Epoch 00016: val_loss improved from 0.50042 to 0.48647, saving model to weights_best_model\n",
      "\n",
      "Epoch 00017: val_loss did not improve from 0.48647\n",
      "\n",
      "Epoch 00018: val_loss improved from 0.48647 to 0.47736, saving model to weights_best_model\n",
      "\n",
      "Epoch 00019: val_loss improved from 0.47736 to 0.47392, saving model to weights_best_model\n",
      "\n",
      "Epoch 00020: val_loss improved from 0.47392 to 0.46491, saving model to weights_best_model\n",
      "\n",
      "Epoch 00021: val_loss did not improve from 0.46491\n",
      "\n",
      "Epoch 00022: val_loss did not improve from 0.46491\n",
      "\n",
      "Epoch 00023: val_loss did not improve from 0.46491\n",
      "\n",
      "Epoch 00024: val_loss improved from 0.46491 to 0.44727, saving model to weights_best_model\n",
      "\n",
      "Epoch 00025: val_loss did not improve from 0.44727\n",
      "\n",
      "Epoch 00026: val_loss improved from 0.44727 to 0.44726, saving model to weights_best_model\n",
      "\n",
      "Epoch 00027: val_loss did not improve from 0.44726\n",
      "\n",
      "Epoch 00028: val_loss did not improve from 0.44726\n",
      "\n",
      "Epoch 00029: val_loss improved from 0.44726 to 0.44299, saving model to weights_best_model\n",
      "\n",
      "Epoch 00030: val_loss did not improve from 0.44299\n",
      "\n",
      "Epoch 00031: val_loss improved from 0.44299 to 0.43675, saving model to weights_best_model\n",
      "\n",
      "Epoch 00032: val_loss did not improve from 0.43675\n",
      "\n",
      "Epoch 00033: val_loss did not improve from 0.43675\n",
      "\n",
      "Epoch 00034: val_loss did not improve from 0.43675\n",
      "\n",
      "Epoch 00035: val_loss did not improve from 0.43675\n",
      "\n",
      "Epoch 00036: val_loss did not improve from 0.43675\n"
     ]
    },
    {
     "data": {
      "text/plain": [
       "<keras.callbacks.History at 0x7fbe0d0ffd30>"
      ]
     },
     "execution_count": 3,
     "metadata": {},
     "output_type": "execute_result"
    }
   ],
   "source": [
    "model = make_model((trainX.shape[1], trainX.shape[2]),\n",
    "                   trainY.shape[-1])\n",
    "\n",
    "checkpoint = ModelCheckpoint('weights_best_model', monitor='val_loss', verbose=1, save_best_only=True, mode='min')\n",
    "early_stopping = EarlyStopping(patience=5)\n",
    "callbacks_list = [checkpoint, early_stopping]\n",
    "\n",
    "model.fit(trainX, trainY,\n",
    "          validation_split=0.15,\n",
    "          epochs=10000,\n",
    "          batch_size=512,\n",
    "          callbacks=callbacks_list,\n",
    "          verbose=0)"
   ]
  },
  {
   "cell_type": "code",
   "execution_count": 9,
   "metadata": {},
   "outputs": [
    {
     "data": {
      "text/plain": [
       "array([[[5.3355, 5.3365, 5.3365, ..., 5.262 , 5.261 , 5.264 ]],\n",
       "\n",
       "       [[5.324 , 5.3255, 5.3235, ..., 5.303 , 5.3   , 5.3   ]],\n",
       "\n",
       "       [[5.264 , 5.262 , 5.26  , ..., 4.919 , 4.925 , 4.9295]],\n",
       "\n",
       "       ...,\n",
       "\n",
       "       [[0.    , 0.    , 0.    , ..., 0.    , 0.    , 0.    ]],\n",
       "\n",
       "       [[0.    , 0.    , 0.    , ..., 0.    , 0.    , 0.    ]],\n",
       "\n",
       "       [[0.    , 0.    , 0.    , ..., 0.    , 0.    , 0.    ]]])"
      ]
     },
     "execution_count": 9,
     "metadata": {},
     "output_type": "execute_result"
    }
   ],
   "source": [
    "testX"
   ]
  },
  {
   "cell_type": "code",
   "execution_count": 7,
   "metadata": {},
   "outputs": [
    {
     "name": "stdout",
     "output_type": "stream",
     "text": [
      "10923 10973 10973\n",
      "[[ 699 1146   20    4]\n",
      " [ 750 7254  109   59]\n",
      " [   3  463    0    0]\n",
      " [   0  345   17  104]]\n",
      "              precision    recall  f1-score   support\n",
      "\n",
      "           0       0.48      0.37      0.42      1869\n",
      "           1       0.79      0.89      0.83      8172\n",
      "           2       0.00      0.00      0.00       466\n",
      "           3       0.62      0.22      0.33       466\n",
      "\n",
      "   micro avg       0.73      0.73      0.73     10973\n",
      "   macro avg       0.47      0.37      0.40     10973\n",
      "weighted avg       0.70      0.73      0.71     10973\n",
      "\n"
     ]
    }
   ],
   "source": [
    "output = model.predict_classes(testX)\n",
    "print(len(record_list), len(output), len(testY.argmax(axis=1)))\n",
    "summed = pd.DataFrame({'predictions': output,\n",
    "                       'label': testY.argmax(axis=1)})\n",
    "\n",
    "print(confusion_matrix(testY.argmax(axis=1), output))\n",
    "print(classification_report(summed['label'], summed[\"predictions\"]))\n"
   ]
  },
  {
   "cell_type": "code",
   "execution_count": null,
   "metadata": {},
   "outputs": [],
   "source": []
  }
 ],
 "metadata": {
  "kernelspec": {
   "display_name": "Python 3",
   "language": "python",
   "name": "python3"
  },
  "language_info": {
   "codemirror_mode": {
    "name": "ipython",
    "version": 3
   },
   "file_extension": ".py",
   "mimetype": "text/x-python",
   "name": "python",
   "nbconvert_exporter": "python",
   "pygments_lexer": "ipython3",
   "version": "3.6.7"
  }
 },
 "nbformat": 4,
 "nbformat_minor": 2
}
